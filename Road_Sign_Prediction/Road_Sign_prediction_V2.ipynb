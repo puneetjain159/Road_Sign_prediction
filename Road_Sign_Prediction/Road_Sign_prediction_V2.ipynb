{
 "cells": [
  {
   "cell_type": "code",
   "execution_count": 23,
   "metadata": {
    "collapsed": false
   },
   "outputs": [],
   "source": [
    "#importing all the necessary packages\n",
    "import pickle\n",
    "from keras.preprocessing.image import ImageDataGenerator\n",
    "from matplotlib import pyplot\n",
    "import numpy as np\n",
    "from skimage import data\n",
    "from skimage.transform import resize"
   ]
  },
  {
   "cell_type": "code",
   "execution_count": 24,
   "metadata": {
    "collapsed": true
   },
   "outputs": [],
   "source": [
    "#importing all the necessary packages\n",
    "import keras\n",
    "from keras import models\n",
    "from keras.models import Sequential\n",
    "from keras.layers import Dense, Dropout, Activation, Flatten\n",
    "from keras.layers import Convolution2D, MaxPooling2D\n",
    "from keras.layers.normalization import BatchNormalization\n",
    "from keras.optimizers import  SGD\n",
    "from keras.utils import np_utils\n",
    "from keras import backend as K\n",
    "from keras.callbacks import ModelCheckpoint"
   ]
  },
  {
   "cell_type": "code",
   "execution_count": 12,
   "metadata": {
    "collapsed": true
   },
   "outputs": [],
   "source": [
    "#Change working directory\n",
    "import os\n",
    "os.getcwd()\n",
    "os.chdir('/home/puneetj/Data_DL/')"
   ]
  },
  {
   "cell_type": "code",
   "execution_count": 13,
   "metadata": {
    "collapsed": false
   },
   "outputs": [],
   "source": [
    "#import pickled data\n",
    "training_set = pickle.load(open(\"training_set.pkl\", \"rb\"))"
   ]
  },
  {
   "cell_type": "code",
   "execution_count": 14,
   "metadata": {
    "collapsed": false
   },
   "outputs": [],
   "source": [
    "#separating classes and image matrix\n",
    "#normalizing the value between 0 to 255\n",
    "train_X = []\n",
    "train_class = []\n",
    "for image in training_set:\n",
    "    pixel = image[\"img\"]\n",
    "    classes = image[\"class\"]\n",
    "    train_X.append(pixel)\n",
    "    train_class.append(classes)"
   ]
  },
  {
   "cell_type": "code",
   "execution_count": 27,
   "metadata": {
    "collapsed": false
   },
   "outputs": [
    {
     "data": {
      "text/plain": [
       "array([[[ 0.38185412,  0.44826353,  0.49253647],\n",
       "        [ 0.43745882,  0.49938824,  0.54181647],\n",
       "        [ 0.44272941,  0.48225882,  0.50927059],\n",
       "        ..., \n",
       "        [ 0.41110588,  0.46315294,  0.43548235],\n",
       "        [ 0.50004706,  0.54761412,  0.46684235],\n",
       "        [ 0.4704    ,  0.51467294,  0.41229176]],\n",
       "\n",
       "       [[ 0.46486588,  0.53364706,  0.54695529],\n",
       "        [ 0.52877804,  0.60405333,  0.60766118],\n",
       "        [ 0.52665098,  0.59328627,  0.57935686],\n",
       "        ..., \n",
       "        [ 0.49430588,  0.50610196,  0.47316078],\n",
       "        [ 0.61886745,  0.62320941,  0.52109804],\n",
       "        [ 0.59939765,  0.61441882,  0.48397176]],\n",
       "\n",
       "       [[ 0.46974118,  0.52508235,  0.49741176],\n",
       "        [ 0.5347451 ,  0.61204706,  0.56727843],\n",
       "        [ 0.5225098 ,  0.6147451 ,  0.55466667],\n",
       "        ..., \n",
       "        [ 0.53270588,  0.47890196,  0.45129412],\n",
       "        [ 0.68517647,  0.62039216,  0.52131765],\n",
       "        [ 0.67661176,  0.64103529,  0.51190588]],\n",
       "\n",
       "       ..., \n",
       "       [[ 0.23849412,  0.27604706,  0.22795294],\n",
       "        [ 0.28963137,  0.33556078,  0.27789804],\n",
       "        [ 0.29976471,  0.34729412,  0.28705882],\n",
       "        ..., \n",
       "        [ 0.34619608,  0.37694118,  0.40423529],\n",
       "        [ 0.36316863,  0.38403137,  0.41069804],\n",
       "        [ 0.31294118,  0.32875294,  0.35115294]],\n",
       "\n",
       "       [[ 0.25456941,  0.29080471,  0.24943059],\n",
       "        [ 0.29930667,  0.34448314,  0.29620706],\n",
       "        [ 0.29866667,  0.34688627,  0.29716078],\n",
       "        ..., \n",
       "        [ 0.3404549 ,  0.37185882,  0.40423529],\n",
       "        [ 0.35640471,  0.37933176,  0.40964392],\n",
       "        [ 0.30595765,  0.32295529,  0.34759529]],\n",
       "\n",
       "       [[ 0.22966588,  0.26010353,  0.22966588],\n",
       "        [ 0.26313412,  0.30108235,  0.26656   ],\n",
       "        [ 0.25430588,  0.29515294,  0.26023529],\n",
       "        ..., \n",
       "        [ 0.28461176,  0.31030588,  0.34127059],\n",
       "        [ 0.30253176,  0.31610353,  0.34416941],\n",
       "        [ 0.26563765,  0.26840471,  0.29054118]]])"
      ]
     },
     "execution_count": 27,
     "metadata": {},
     "output_type": "execute_result"
    }
   ],
   "source": [
    "train_X[32]"
   ]
  },
  {
   "cell_type": "code",
   "execution_count": 16,
   "metadata": {
    "collapsed": false
   },
   "outputs": [],
   "source": [
    "#resizing the pixels  to 50X50 matrix\n",
    "for no,image in enumerate(train_X):\n",
    "    train_X[no] = resize(image,(50,50,3))\n",
    "    train_X[no].astype(\"float32\")"
   ]
  },
  {
   "cell_type": "code",
   "execution_count": 17,
   "metadata": {
    "collapsed": false
   },
   "outputs": [],
   "source": [
    "#split between triain and validation\n",
    "train = train_X[:27446]\n",
    "train_clas = train_class[:27446]\n",
    "validation = train_X[27446:]\n",
    "validation_clas = train_class[27446:]"
   ]
  },
  {
   "cell_type": "code",
   "execution_count": 18,
   "metadata": {
    "collapsed": false
   },
   "outputs": [],
   "source": [
    "#convert to numpy array\n",
    "train = np.array(train)\n",
    "validation = np.array(validation)"
   ]
  },
  {
   "cell_type": "code",
   "execution_count": 43,
   "metadata": {
    "collapsed": false
   },
   "outputs": [
    {
     "ename": "AttributeError",
     "evalue": "'list' object has no attribute 'reshape'",
     "output_type": "error",
     "traceback": [
      "\u001b[1;31m---------------------------------------------------------------------------\u001b[0m",
      "\u001b[1;31mAttributeError\u001b[0m                            Traceback (most recent call last)",
      "\u001b[1;32m<ipython-input-43-39570c2f6a57>\u001b[0m in \u001b[0;36m<module>\u001b[1;34m()\u001b[0m\n\u001b[0;32m      7\u001b[0m \u001b[1;32melse\u001b[0m\u001b[1;33m:\u001b[0m\u001b[1;33m\u001b[0m\u001b[0m\n\u001b[0;32m      8\u001b[0m     \u001b[0mtrain\u001b[0m \u001b[1;33m=\u001b[0m \u001b[0mtrain\u001b[0m\u001b[1;33m.\u001b[0m\u001b[0mreshape\u001b[0m\u001b[1;33m(\u001b[0m\u001b[0mtrain\u001b[0m\u001b[1;33m.\u001b[0m\u001b[0mshape\u001b[0m\u001b[1;33m[\u001b[0m\u001b[1;36m0\u001b[0m\u001b[1;33m]\u001b[0m\u001b[1;33m,\u001b[0m \u001b[1;36m3\u001b[0m\u001b[1;33m,\u001b[0m \u001b[1;36m50\u001b[0m\u001b[1;33m,\u001b[0m \u001b[1;36m50\u001b[0m\u001b[1;33m)\u001b[0m\u001b[1;33m\u001b[0m\u001b[0m\n\u001b[1;32m----> 9\u001b[1;33m     \u001b[0mvalidation\u001b[0m \u001b[1;33m=\u001b[0m \u001b[0mvalidation\u001b[0m\u001b[1;33m.\u001b[0m\u001b[0mreshape\u001b[0m\u001b[1;33m(\u001b[0m\u001b[0mvalidation\u001b[0m\u001b[1;33m.\u001b[0m\u001b[0mshape\u001b[0m\u001b[1;33m[\u001b[0m\u001b[1;36m0\u001b[0m\u001b[1;33m]\u001b[0m\u001b[1;33m,\u001b[0m \u001b[1;36m3\u001b[0m\u001b[1;33m,\u001b[0m \u001b[1;36m50\u001b[0m\u001b[1;33m,\u001b[0m \u001b[1;36m50\u001b[0m\u001b[1;33m)\u001b[0m\u001b[1;33m\u001b[0m\u001b[0m\n\u001b[0m\u001b[0;32m     10\u001b[0m     \u001b[0minput_shape\u001b[0m \u001b[1;33m=\u001b[0m \u001b[1;33m(\u001b[0m\u001b[1;36m3\u001b[0m\u001b[1;33m,\u001b[0m \u001b[1;36m50\u001b[0m\u001b[1;33m,\u001b[0m \u001b[1;36m50\u001b[0m\u001b[1;33m)\u001b[0m\u001b[1;33m\u001b[0m\u001b[0m\n",
      "\u001b[1;31mAttributeError\u001b[0m: 'list' object has no attribute 'reshape'"
     ]
    }
   ],
   "source": [
    "#set the  object for number of classes and one hot encoding for the test and validation\n",
    "n_classes=max(train_class)+1\n",
    "train_clas = np_utils.to_categorical(train_clas, nb_classes=n_classes)\n",
    "validation_clas = np_utils.to_categorical(validation_clas, nb_classes=n_classes)\n",
    "\n",
    "#set shape according to dim ordering\n",
    "if K.image_dim_ordering() == 'tf':\n",
    "    train = train.reshape(train.shape[0],50, 50,3)\n",
    "    validation = validation.reshape(validation.shape[0], 50, 50,3)\n",
    "    input_shape = (50, 50,3)    \n",
    "else:\n",
    "    train = train.reshape(train.shape[0], 3, 50, 50)\n",
    "    validation = validation.reshape(validation.shape[0], 3, 50, 50)\n",
    "    input_shape = (3, 50, 50)"
   ]
  },
  {
   "cell_type": "code",
   "execution_count": null,
   "metadata": {
    "collapsed": true
   },
   "outputs": [],
   "source": [
    "info_string = \"50X50_Data_Test\"\n",
    "ckpt_fn = \"/home/puneetj/Data_DL\" + '{val_loss:.2f}-loss_' + info_string + '.h5'\n",
    "\n",
    "ckpt = ModelCheckpoint(filepath=ckpt_fn,\n",
    "                      monitor='val_loss')"
   ]
  },
  {
   "cell_type": "code",
   "execution_count": 30,
   "metadata": {
    "collapsed": false
   },
   "outputs": [
    {
     "name": "stdout",
     "output_type": "stream",
     "text": [
      "Train on 27446 samples, validate on 11763 samples\n",
      "Epoch 1/30\n",
      "27446/27446 [==============================] - 1180s - loss: 3.5783 - acc: 0.1040 - val_loss: 3.5583 - val_acc: 0.0993\n",
      "Epoch 2/30\n",
      "27446/27446 [==============================] - 1170s - loss: 2.7474 - acc: 0.3089 - val_loss: 2.7511 - val_acc: 0.3858\n",
      "Epoch 3/30\n",
      "27446/27446 [==============================] - 1164s - loss: 2.2503 - acc: 0.4686 - val_loss: 1.9627 - val_acc: 0.6057\n",
      "Epoch 4/30\n",
      "27446/27446 [==============================] - 1178s - loss: 1.9004 - acc: 0.5660 - val_loss: 1.4994 - val_acc: 0.7178\n",
      "Epoch 5/30\n",
      "27446/27446 [==============================] - 1180s - loss: 1.6235 - acc: 0.6449 - val_loss: 1.2169 - val_acc: 0.7676\n",
      "Epoch 6/30\n",
      "27446/27446 [==============================] - 1182s - loss: 1.4056 - acc: 0.6994 - val_loss: 1.0588 - val_acc: 0.8111\n",
      "Epoch 7/30\n",
      "27446/27446 [==============================] - 1174s - loss: 1.2278 - acc: 0.7431 - val_loss: 0.8547 - val_acc: 0.8471\n",
      "Epoch 8/30\n",
      "27446/27446 [==============================] - 1173s - loss: 1.0965 - acc: 0.7728 - val_loss: 0.7373 - val_acc: 0.8703\n",
      "Epoch 9/30\n",
      "27446/27446 [==============================] - 1181s - loss: 0.9836 - acc: 0.7982 - val_loss: 0.7523 - val_acc: 0.8596\n",
      "Epoch 10/30\n",
      "27446/27446 [==============================] - 1179s - loss: 0.8874 - acc: 0.8221 - val_loss: 0.5493 - val_acc: 0.9091\n",
      "Epoch 11/30\n",
      "27446/27446 [==============================] - 1179s - loss: 0.8149 - acc: 0.8324 - val_loss: 0.4860 - val_acc: 0.9197\n",
      "Epoch 12/30\n",
      "27446/27446 [==============================] - 1173s - loss: 0.7403 - acc: 0.8518 - val_loss: 0.4280 - val_acc: 0.9274\n",
      "Epoch 13/30\n",
      "27446/27446 [==============================] - 1179s - loss: 0.6818 - acc: 0.8627 - val_loss: 0.3840 - val_acc: 0.9402\n",
      "Epoch 14/30\n",
      "27446/27446 [==============================] - 1170s - loss: 0.6268 - acc: 0.8752 - val_loss: 0.3420 - val_acc: 0.9423\n",
      "Epoch 15/30\n",
      "27446/27446 [==============================] - 1182s - loss: 0.5837 - acc: 0.8856 - val_loss: 0.3079 - val_acc: 0.9476\n",
      "Epoch 16/30\n",
      "27446/27446 [==============================] - 1182s - loss: 0.5476 - acc: 0.8911 - val_loss: 0.2829 - val_acc: 0.9547\n",
      "Epoch 17/30\n",
      "27446/27446 [==============================] - 1171s - loss: 0.5076 - acc: 0.8995 - val_loss: 0.2740 - val_acc: 0.9562\n",
      "Epoch 18/30\n",
      "27446/27446 [==============================] - 1174s - loss: 0.4795 - acc: 0.9059 - val_loss: 0.2251 - val_acc: 0.9607\n",
      "Epoch 19/30\n",
      "27446/27446 [==============================] - 1168s - loss: 0.4514 - acc: 0.9125 - val_loss: 0.2230 - val_acc: 0.9611\n",
      "Epoch 20/30\n",
      "27446/27446 [==============================] - 1180s - loss: 0.4228 - acc: 0.9202 - val_loss: 0.2357 - val_acc: 0.9565\n",
      "Epoch 21/30\n",
      "27446/27446 [==============================] - 1178s - loss: 0.3986 - acc: 0.9233 - val_loss: 0.1939 - val_acc: 0.9633\n",
      "Epoch 22/30\n",
      "27446/27446 [==============================] - 1169s - loss: 0.3714 - acc: 0.9295 - val_loss: 0.1691 - val_acc: 0.9696\n",
      "Epoch 23/30\n",
      "27446/27446 [==============================] - 1176s - loss: 0.3600 - acc: 0.9303 - val_loss: 0.1578 - val_acc: 0.9708\n",
      "Epoch 24/30\n",
      "27446/27446 [==============================] - 1177s - loss: 0.3383 - acc: 0.9347 - val_loss: 0.1473 - val_acc: 0.9732\n",
      "Epoch 25/30\n",
      "27446/27446 [==============================] - 1172s - loss: 0.3248 - acc: 0.9394 - val_loss: 0.1864 - val_acc: 0.9681\n",
      "Epoch 26/30\n",
      "27446/27446 [==============================] - 1173s - loss: 0.3157 - acc: 0.9381 - val_loss: 0.1291 - val_acc: 0.9759\n",
      "Epoch 27/30\n",
      "27446/27446 [==============================] - 1179s - loss: 0.2953 - acc: 0.9417 - val_loss: 0.1333 - val_acc: 0.9759\n",
      "Epoch 28/30\n",
      "27446/27446 [==============================] - 1177s - loss: 0.2849 - acc: 0.9451 - val_loss: 0.1442 - val_acc: 0.9715\n",
      "Epoch 29/30\n",
      "27446/27446 [==============================] - 1170s - loss: 0.2686 - acc: 0.9498 - val_loss: 0.1415 - val_acc: 0.9734\n",
      "Epoch 30/30\n",
      "27446/27446 [==============================] - 1176s - loss: 0.2569 - acc: 0.9505 - val_loss: 0.1160 - val_acc: 0.9780\n"
     ]
    },
    {
     "data": {
      "text/plain": [
       "<keras.callbacks.History at 0x7f7a663db410>"
      ]
     },
     "execution_count": 30,
     "metadata": {},
     "output_type": "execute_result"
    }
   ],
   "source": [
    "#hyperparameteres\n",
    "nb_filters1 = 32\n",
    "nb_filters2 = 32\n",
    "nb_filters3 = 64\n",
    "\n",
    "\n",
    "# size of pooling area for max pooling\n",
    "pool_size = (2, 2)\n",
    "# convolution kernel size\n",
    "kernel_size = (3, 3)\n",
    "\n",
    "model = Sequential()\n",
    "#adding the convolution layer with btch normalizatioin and max pooling and drop-out\n",
    "model.add(Convolution2D(nb_filters1, kernel_size[0], kernel_size[1],\n",
    "                        border_mode='same',\n",
    "                        input_shape=input_shape))\n",
    "model.add(BatchNormalization(axis=1))\n",
    "model.add(Activation('relu'))\n",
    "model.add(Convolution2D(nb_filters2, kernel_size[0], kernel_size[1],border_mode='valid'))\n",
    "model.add(BatchNormalization(axis=1))\n",
    "model.add(Activation('relu'))\n",
    "model.add(MaxPooling2D(pool_size=pool_size))\n",
    "model.add(Dropout(0.25))\n",
    "\n",
    "model.add(Convolution2D(nb_filters3, kernel_size[0], kernel_size[1],\n",
    "                         border_mode = 'same'))\n",
    "model.add(BatchNormalization(axis=1))\n",
    "model.add(Activation('relu'))\n",
    "model.add(Convolution2D(nb_filters3, kernel_size[0], kernel_size[1],border_mode='valid'))\n",
    "model.add(BatchNormalization(axis=1))\n",
    "model.add(Activation('relu'))\n",
    "model.add(MaxPooling2D(pool_size=pool_size))\n",
    "model.add(Dropout(0.25))\n",
    "\n",
    "model.add(Convolution2D(nb_filters3, kernel_size[0], kernel_size[1],\n",
    "                         border_mode = 'same'))\n",
    "model.add(BatchNormalization(axis=1))\n",
    "model.add(Activation('relu'))\n",
    "model.add(Convolution2D(nb_filters3, kernel_size[0], kernel_size[1],border_mode='valid'))\n",
    "model.add(BatchNormalization(axis=1))\n",
    "model.add(Activation('relu'))\n",
    "model.add(MaxPooling2D(pool_size=pool_size))\n",
    "model.add(Dropout(0.25))\n",
    "#adding dense layer\n",
    "model.add(Flatten())\n",
    "model.add(Dense(128))\n",
    "model.add(BatchNormalization())\n",
    "model.add(Activation('relu'))\n",
    "model.add(Dropout(0.5))\n",
    "\n",
    "\n",
    "model.add(Dense(n_classes))\n",
    "model.add(BatchNormalization())\n",
    "model.add(Activation('softmax'))\n",
    "\n",
    "#compile model\n",
    "\n",
    "\n",
    "model.compile(loss='categorical_crossentropy',\n",
    "              optimizer=keras.optimizers.Adadelta(lr=1.0, rho=0.95, epsilon=1e-08, decay=0.0),\n",
    "              metrics=['accuracy'])\n",
    "              \n",
    "#run model\n",
    "batch_size = 128\n",
    "#using 6 epochs only, for runtime considerations\n",
    "nb_epoch = 30\n",
    "\n",
    "\n",
    "model.fit(train, train_clas, batch_size=batch_size, nb_epoch=nb_epoch,\n",
    "          verbose=1, validation_data=(validation,validation_clas),callbacks=[ckpt],)"
   ]
  },
  {
   "cell_type": "code",
   "execution_count": 33,
   "metadata": {
    "collapsed": false
   },
   "outputs": [
    {
     "name": "stdout",
     "output_type": "stream",
     "text": [
      "11763/11763 [==============================] - 153s   \n",
      "('Test score:', 0.11597815912822107)\n",
      "('Test accuracy:', 0.97798180736206752)\n"
     ]
    }
   ],
   "source": [
    "#saving the model \n",
    "model.save('model_final.h5')\n",
    "\n",
    "#evaluate the final model\n",
    "score = model.evaluate(validation, validation_clas, verbose=1)\n",
    "print('Test score:', score[0])\n",
    "\n",
    "print('Test accuracy:', score[1])\n",
    "\n"
   ]
  },
  {
   "cell_type": "code",
   "execution_count": 48,
   "metadata": {
    "collapsed": false
   },
   "outputs": [
    {
     "name": "stdout",
     "output_type": "stream",
     "text": [
      "12630/12630 [==============================] - 163s   \n"
     ]
    }
   ],
   "source": []
  },
  {
   "cell_type": "code",
   "execution_count": 40,
   "metadata": {
    "collapsed": true
   },
   "outputs": [],
   "source": [
    "#scoring the test set\n",
    "import csv \n",
    "validation= pickle.load(open(\"testing_set.pkl\", \"rb\"))\n",
    "validation_X = []\n",
    "for image in validation:\n",
    "    pixel = image[\"img\"]\n",
    "    validation_X.append(pixel)\n",
    "for no,image in enumerate(validation_X):\n",
    "    validation_X[no] = resize(image,(50,50,3))\n",
    "    validation_X[no].astype(\"float32\")\n",
    "validation_X = np.array(validation_X)\n",
    "#set shape according to dim ordering\n",
    "if K.image_dim_ordering() == 'tf':\n",
    "    train = train.reshape(train.shape[0],50, 50,3)\n",
    "    validation_X = validation_X.reshape(validation_X.shape[0], 50, 50,3)\n",
    "    input_shape = (50, 50,3)    \n",
    "else:\n",
    "    train = train.reshape(train.shape[0], 3, 50, 50)\n",
    "    validation_X = validation_X.reshape(validation_X.shape[0], 3, 50, 50)\n",
    "    input_shape = (3, 50, 50)\n",
    "\n",
    "pred_val = model.predict_classes(validation_X,verbose=1)\n",
    "csv_out = open(\"submission.csv\",'wb')\n",
    "mywriter = csv.writer(csv_out)\n",
    "mywriter.writerow(pred_val.tolist())\n",
    "csv_out.close()"
   ]
  },
  {
   "cell_type": "code",
   "execution_count": 41,
   "metadata": {
    "collapsed": false
   },
   "outputs": [],
   "source": []
  },
  {
   "cell_type": "code",
   "execution_count": 49,
   "metadata": {
    "collapsed": false
   },
   "outputs": [],
   "source": []
  },
  {
   "cell_type": "code",
   "execution_count": null,
   "metadata": {
    "collapsed": false
   },
   "outputs": [],
   "source": []
  },
  {
   "cell_type": "code",
   "execution_count": null,
   "metadata": {
    "collapsed": false
   },
   "outputs": [],
   "source": []
  },
  {
   "cell_type": "code",
   "execution_count": null,
   "metadata": {
    "collapsed": false
   },
   "outputs": [],
   "source": []
  },
  {
   "cell_type": "code",
   "execution_count": null,
   "metadata": {
    "collapsed": true
   },
   "outputs": [],
   "source": []
  }
 ],
 "metadata": {
  "kernelspec": {
   "display_name": "Python 2",
   "language": "python",
   "name": "python2"
  },
  "language_info": {
   "codemirror_mode": {
    "name": "ipython",
    "version": 2
   },
   "file_extension": ".py",
   "mimetype": "text/x-python",
   "name": "python",
   "nbconvert_exporter": "python",
   "pygments_lexer": "ipython2",
   "version": "2.7.13"
  }
 },
 "nbformat": 4,
 "nbformat_minor": 0
}
